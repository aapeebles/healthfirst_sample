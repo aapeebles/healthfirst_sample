{
 "cells": [
  {
   "cell_type": "markdown",
   "metadata": {},
   "source": [
    "## Data Information \n",
    "CMS publishes synthetic claims and beneficiary data available for the public. Claims are generated whenever healthcare providers submit a request for payment to a health plan, proving information about the interactions between the patients, healthcare providers and insurers. \n",
    "\n",
    "According to a report from the centers of disease control and prevention, Americans living with chronic physical and mental health conditions account for 90% of the $3.3 trillion the U.S. spends each year on healthcare.\n",
    "\n",
    "-\tPropose an area that you might implement a care management program based on your analysis. \n",
    "-\tWhat type of data driven solution would you recommend building to implement this program?\n",
    "-\tBe prepared to highlight any limitations.\n",
    "-\tWhat would you do if you had more time? "
   ]
  },
  {
   "cell_type": "markdown",
   "metadata": {},
   "source": [
    "## My approach and assumptions:\n",
    " - analysis time was limited (\"you'll have one hour to do analysis and one to present\")\n",
    " - looking for quick  wins\n",
    " - focus on cost reduction\n",
    "\n",
    "### Future work:\n",
    " - include membership count to calculate utlization rate\n",
    " - look at demographics and location to see where to target interventions\n",
    " - look at trends over time, for sake of time\n",
    " - would like both bene zip code and npi zip code\n",
    " - get cpt code to distinguish between planned and unplanned care"
   ]
  },
  {
   "cell_type": "markdown",
   "metadata": {},
   "source": [
    "Variables used:\n",
    " - 'BENE_ID',  'CLM_ID',\n",
    " - 'CLM_FROM_DT'\n",
    " - 'CLM_THRU_DT'\n",
    " - 'PRNCPAL_DGNS_CD'\n",
    " - 'PRNCPAL_DGNS_DESC'\n",
    " - 'ICD_DGNS_CD1'\n",
    " - 'ICD_DGNS_CD1_DESC\n",
    "\n",
    "Created at claim level:\n",
    " - Year-Month date variable\n",
    " - days between FROM and THRU\n",
    " - Root ICD code from Principal diagnosis\n",
    "\n",
    "Created at aggregate level:\n",
    " - total claim amount per month per code\n",
    " - count of claims per month per code\n",
    " - percentages for each\n",
    "\n",
    "Also used [icd website](https://icd10cmtool.cdc.gov/)"
   ]
  },
  {
   "cell_type": "markdown",
   "metadata": {},
   "source": [
    "## Recomendations\n",
    "Focus on:\n",
    "- mental health/community/social determinants of health\n",
    "- cardiac health\n",
    "- renal health\n",
    "\n",
    "\n",
    "\n",
    "![claims over time](./claims_over_time.png)\n",
    "'I25': 'Chronic ischemic heart disease'\n",
    "\n",
    " 'Z73':'Problems related to life management difficulty'\n",
    "\n",
    " 'Z60': 'Problems related to social environment'\n",
    "\n",
    "\n",
    "![scatter plot](./scatter.png)\n",
    "\n",
    "\n",
    "| value | Z73 |\n",
    "|----| :---| \n",
    "|mean cost per claim | $1,292.32|\n",
    "|median cost per claim| $ 895.45 |"
   ]
  },
  {
   "cell_type": "markdown",
   "metadata": {},
   "source": []
  }
 ],
 "metadata": {
  "language_info": {
   "name": "python"
  }
 },
 "nbformat": 4,
 "nbformat_minor": 2
}
